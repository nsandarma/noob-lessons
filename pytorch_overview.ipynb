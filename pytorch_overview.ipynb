{
 "cells": [
  {
   "cell_type": "markdown",
   "metadata": {},
   "source": [
    "- python3.12\n",
    "- torch '2.3.0+cu121'\n",
    "- numpy '1.26.4'\n",
    "- matlotlib '3.8'\n",
    "- idx2numpy '1.2.3'"
   ]
  },
  {
   "cell_type": "code",
   "execution_count": 1,
   "metadata": {},
   "outputs": [],
   "source": [
    "import torch\n",
    "import numpy as np"
   ]
  },
  {
   "cell_type": "markdown",
   "metadata": {},
   "source": [
    "*\"Everything in PyTorch is based on Tensor operations. A Tensor is a multi-dimensional matrix containing elements of a single data type\"*\n"
   ]
  },
  {
   "cell_type": "code",
   "execution_count": 2,
   "metadata": {},
   "outputs": [
    {
     "data": {
      "text/plain": [
       "array([[94, 89, 29, 13, 11,  7, 79, 32, 79, 34],\n",
       "       [11,  5, 83, 14, 17, 51,  9, 38, 88, 80],\n",
       "       [ 5, 54, 42,  3,  9, 60, 69, 59, 33,  5],\n",
       "       [ 3, 37, 33, 63, 38, 57, 74,  1, 26, 14],\n",
       "       [81, 78, 46, 74, 82,  9,  9, 43, 87, 89],\n",
       "       [49, 62, 20, 24, 38,  5, 62,  4, 48, 89],\n",
       "       [72, 28, 24, 93, 91, 44, 93, 24, 98, 67],\n",
       "       [54, 18, 81, 76, 91, 45, 16, 63, 53,  4],\n",
       "       [42, 93, 34, 59, 13, 66, 63,  5, 73, 79],\n",
       "       [ 8, 49, 38, 41, 90, 76, 25, 42, 14, 46]])"
      ]
     },
     "execution_count": 2,
     "metadata": {},
     "output_type": "execute_result"
    }
   ],
   "source": [
    "# matrix from numpy.ndarray\n",
    "x = np.random.randint(1, 100, size=(10, 10))\n",
    "x"
   ]
  },
  {
   "cell_type": "code",
   "execution_count": 3,
   "metadata": {},
   "outputs": [
    {
     "data": {
      "text/plain": [
       "tensor([[94, 89, 29, 13, 11,  7, 79, 32, 79, 34],\n",
       "        [11,  5, 83, 14, 17, 51,  9, 38, 88, 80],\n",
       "        [ 5, 54, 42,  3,  9, 60, 69, 59, 33,  5],\n",
       "        [ 3, 37, 33, 63, 38, 57, 74,  1, 26, 14],\n",
       "        [81, 78, 46, 74, 82,  9,  9, 43, 87, 89],\n",
       "        [49, 62, 20, 24, 38,  5, 62,  4, 48, 89],\n",
       "        [72, 28, 24, 93, 91, 44, 93, 24, 98, 67],\n",
       "        [54, 18, 81, 76, 91, 45, 16, 63, 53,  4],\n",
       "        [42, 93, 34, 59, 13, 66, 63,  5, 73, 79],\n",
       "        [ 8, 49, 38, 41, 90, 76, 25, 42, 14, 46]])"
      ]
     },
     "execution_count": 3,
     "metadata": {},
     "output_type": "execute_result"
    }
   ],
   "source": [
    "# casting to tensor\n",
    "x = torch.from_numpy(x)  # Basically, the data type follows from the origin\n",
    "x"
   ]
  },
  {
   "cell_type": "code",
   "execution_count": 4,
   "metadata": {},
   "outputs": [
    {
     "data": {
      "text/plain": [
       "tensor([1, 2, 3, 4, 5])"
      ]
     },
     "execution_count": 4,
     "metadata": {},
     "output_type": "execute_result"
    }
   ],
   "source": [
    "# create tensor\n",
    "x = torch.LongTensor([1, 2, 3, 4, 5])  # or torch.tensor([1,2,3,4,5],dtype=torch.int32)\n",
    "x"
   ]
  },
  {
   "cell_type": "markdown",
   "metadata": {},
   "source": [
    "## Operation with Tensors\n",
    "* operasi tensor di pytorch hampir sama dengan yang di numpy \"*Tensor computation (like NumPy)*\"\n",
    "* jadi skip aja ye ....\n"
   ]
  },
  {
   "cell_type": "code",
   "execution_count": 5,
   "metadata": {},
   "outputs": [
    {
     "name": "stdout",
     "output_type": "stream",
     "text": [
      "tensor([[1., 2.],\n",
      "        [3., 4.]])\n",
      "tensor([[0.0624, 0.9009],\n",
      "        [0.7961, 0.9066]])\n"
     ]
    }
   ],
   "source": [
    "x = torch.tensor([[1, 2], [3, 4]], dtype=torch.float32, requires_grad=False)\n",
    "y = torch.rand(2, 2, requires_grad=False)\n",
    "print(x)\n",
    "print(y)"
   ]
  },
  {
   "cell_type": "markdown",
   "metadata": {},
   "source": [
    "### Add,Subtract,Divide (elementwise)"
   ]
  },
  {
   "cell_type": "code",
   "execution_count": 6,
   "metadata": {},
   "outputs": [
    {
     "name": "stdout",
     "output_type": "stream",
     "text": [
      "tensor([[1.0624, 2.9009],\n",
      "        [3.7961, 4.9066]])\n",
      "tensor([[0.9376, 1.0991],\n",
      "        [2.2039, 3.0934]])\n",
      "tensor([[16.0293,  2.2201],\n",
      "        [ 3.7685,  4.4119]])\n"
     ]
    }
   ],
   "source": [
    "# addition\n",
    "print(x + y)\n",
    "\n",
    "# subtraction\n",
    "print(x - y)\n",
    "\n",
    "# division\n",
    "print(x / y)\n",
    "\n",
    "\n",
    "# in place addition, everythin with a trailing underscore is an inplace operation\n",
    "# i.e. it will modify the variable\n",
    "# y.add_(x), y.subtract_(x)"
   ]
  },
  {
   "cell_type": "markdown",
   "metadata": {},
   "source": [
    "### Multiply"
   ]
  },
  {
   "cell_type": "code",
   "execution_count": 7,
   "metadata": {},
   "outputs": [
    {
     "name": "stdout",
     "output_type": "stream",
     "text": [
      "tensor([[0.0624, 1.8017],\n",
      "        [2.3882, 3.6265]])\n",
      "tensor([[1.6546, 2.7141],\n",
      "        [3.3715, 6.3291]])\n"
     ]
    },
    {
     "data": {
      "text/plain": [
       "tensor(7.8789)"
      ]
     },
     "execution_count": 7,
     "metadata": {},
     "output_type": "execute_result"
    }
   ],
   "source": [
    "# hadamart product (elementwise)\n",
    "print(x * y)  # or x.multiply(y)\n",
    "\n",
    "# matrix product\n",
    "print(x @ y)  # or x.matmul(y)\n",
    "\n",
    "# dot product\n",
    "x.reshape(-1).dot(y.reshape(-1))"
   ]
  },
  {
   "cell_type": "markdown",
   "metadata": {},
   "source": [
    "### Slicing"
   ]
  },
  {
   "cell_type": "code",
   "execution_count": 8,
   "metadata": {},
   "outputs": [
    {
     "name": "stdout",
     "output_type": "stream",
     "text": [
      "tensor([[1., 2.],\n",
      "        [3., 4.]])\n",
      "x[:, 0] tensor([1., 3.])\n",
      "x[1, :] tensor([3., 4.])\n",
      "x[1, 1] tensor(4.)\n",
      "x[1,1].item() 4.0\n"
     ]
    }
   ],
   "source": [
    "print(x)\n",
    "print(\"x[:, 0]\", x[:, 0])  # all rows, column 0\n",
    "print(\"x[1, :]\", x[1, :])  # row 1, all columns\n",
    "print(\"x[1, 1]\", x[1, 1])  # element at 1, 1\n",
    "\n",
    "# Get the actual value if only 1 element in your tensor\n",
    "print(\"x[1,1].item()\", x[1, 1].item())"
   ]
  },
  {
   "cell_type": "code",
   "execution_count": 9,
   "metadata": {},
   "outputs": [
    {
     "name": "stdout",
     "output_type": "stream",
     "text": [
      "torch.Size([4, 4]) torch.Size([16]) torch.Size([2, 8])\n"
     ]
    }
   ],
   "source": [
    "# Reshape with torch.view()\n",
    "x = torch.randn(4, 4)\n",
    "y = x.view(16)\n",
    "z = x.view(-1, 8)  # the size -1 is inferred from other dimensions\n",
    "# if -1 it pytorch will automatically determine the necessary size\n",
    "print(x.size(), y.size(), z.size())"
   ]
  },
  {
   "cell_type": "markdown",
   "metadata": {},
   "source": [
    "## Functional Pytorch\n",
    "\n",
    "![img_simple_neural_network](https://miro.medium.com/v2/resize:fit:1400/1*FlJ_ZPMSlpCdeuAYzC0gPw.png)"
   ]
  },
  {
   "cell_type": "code",
   "execution_count": 10,
   "metadata": {},
   "outputs": [],
   "source": [
    "from torch.functional import F"
   ]
  },
  {
   "cell_type": "code",
   "execution_count": 11,
   "metadata": {},
   "outputs": [],
   "source": [
    "\"\"\"\n",
    "x -> (batch_size,input_features)\n",
    "w -> (output_features,input_features)\n",
    "b -> (output_features)\n",
    "\"\"\"\n",
    "\n",
    "x = torch.FloatTensor([[1, 2], [3, 4]])  # (2,2)\n",
    "w = torch.tensor([[0.5, 0.2]])  # (1,2)\n",
    "b = torch.tensor([0.1])  # (1,)"
   ]
  },
  {
   "cell_type": "markdown",
   "metadata": {},
   "source": [
    "### Linear"
   ]
  },
  {
   "cell_type": "code",
   "execution_count": 12,
   "metadata": {},
   "outputs": [
    {
     "data": {
      "text/plain": [
       "tensor([[1.0000],\n",
       "        [2.4000]])"
      ]
     },
     "execution_count": 12,
     "metadata": {},
     "output_type": "execute_result"
    }
   ],
   "source": [
    "out = F.linear(input=x, weight=w, bias=b)\n",
    "out"
   ]
  },
  {
   "cell_type": "code",
   "execution_count": 13,
   "metadata": {},
   "outputs": [
    {
     "data": {
      "text/plain": [
       "tensor([[1.0000],\n",
       "        [2.4000]])"
      ]
     },
     "execution_count": 13,
     "metadata": {},
     "output_type": "execute_result"
    }
   ],
   "source": [
    "# Manual Calculation\n",
    "x @ w.T + b"
   ]
  },
  {
   "cell_type": "markdown",
   "metadata": {},
   "source": [
    "### Activation Function"
   ]
  },
  {
   "cell_type": "markdown",
   "metadata": {},
   "source": [
    "##### ReLU"
   ]
  },
  {
   "cell_type": "code",
   "execution_count": 14,
   "metadata": {},
   "outputs": [
    {
     "data": {
      "text/plain": [
       "tensor([[1.0000],\n",
       "        [2.4000]])"
      ]
     },
     "execution_count": 14,
     "metadata": {},
     "output_type": "execute_result"
    }
   ],
   "source": [
    "F.relu(out)"
   ]
  },
  {
   "cell_type": "code",
   "execution_count": 15,
   "metadata": {},
   "outputs": [
    {
     "data": {
      "text/plain": [
       "tensor([[1.0000],\n",
       "        [2.4000]])"
      ]
     },
     "execution_count": 15,
     "metadata": {},
     "output_type": "execute_result"
    }
   ],
   "source": [
    "# Manual Calculation\n",
    "torch.max(torch.zeros_like(out), out)"
   ]
  },
  {
   "cell_type": "markdown",
   "metadata": {},
   "source": [
    "#### Sigmoid (Logistic)"
   ]
  },
  {
   "cell_type": "code",
   "execution_count": 16,
   "metadata": {},
   "outputs": [
    {
     "data": {
      "text/plain": [
       "tensor([[0.7311],\n",
       "        [0.9168]])"
      ]
     },
     "execution_count": 16,
     "metadata": {},
     "output_type": "execute_result"
    }
   ],
   "source": [
    "F.sigmoid(out)"
   ]
  },
  {
   "cell_type": "code",
   "execution_count": 17,
   "metadata": {},
   "outputs": [
    {
     "data": {
      "text/plain": [
       "tensor([[0.7311],\n",
       "        [0.9168]])"
      ]
     },
     "execution_count": 17,
     "metadata": {},
     "output_type": "execute_result"
    }
   ],
   "source": [
    "# Manual Calculation\n",
    "1 / (1 + torch.exp(-out))"
   ]
  },
  {
   "cell_type": "code",
   "execution_count": 18,
   "metadata": {},
   "outputs": [
    {
     "data": {
      "text/plain": [
       "tensor([[-0.3133],\n",
       "        [-0.0868]])"
      ]
     },
     "execution_count": 18,
     "metadata": {},
     "output_type": "execute_result"
    }
   ],
   "source": [
    "# logsigmoid\n",
    "F.logsigmoid(out)"
   ]
  },
  {
   "cell_type": "markdown",
   "metadata": {},
   "source": [
    "#### Tanh (Hyperbolic tangent)\n"
   ]
  },
  {
   "cell_type": "code",
   "execution_count": 19,
   "metadata": {},
   "outputs": [
    {
     "data": {
      "text/plain": [
       "tensor([[0.7616],\n",
       "        [0.9837]])"
      ]
     },
     "execution_count": 19,
     "metadata": {},
     "output_type": "execute_result"
    }
   ],
   "source": [
    "F.tanh(out)"
   ]
  },
  {
   "cell_type": "markdown",
   "metadata": {},
   "source": [
    "#### Softmax"
   ]
  },
  {
   "cell_type": "code",
   "execution_count": 20,
   "metadata": {},
   "outputs": [
    {
     "data": {
      "text/plain": [
       "tensor([[0.1978],\n",
       "        [0.8022]])"
      ]
     },
     "execution_count": 20,
     "metadata": {},
     "output_type": "execute_result"
    }
   ],
   "source": [
    "F.softmax(out, dim=0)"
   ]
  },
  {
   "cell_type": "code",
   "execution_count": 21,
   "metadata": {},
   "outputs": [
    {
     "data": {
      "text/plain": [
       "tensor([[0.1978],\n",
       "        [0.8022]])"
      ]
     },
     "execution_count": 21,
     "metadata": {},
     "output_type": "execute_result"
    }
   ],
   "source": [
    "# Manual Calculation\n",
    "torch.exp(out) / torch.sum(torch.exp(out), dim=0, keepdim=True)"
   ]
  },
  {
   "cell_type": "code",
   "execution_count": 22,
   "metadata": {},
   "outputs": [
    {
     "data": {
      "text/plain": [
       "tensor([[-1.6204],\n",
       "        [-0.2204]])"
      ]
     },
     "execution_count": 22,
     "metadata": {},
     "output_type": "execute_result"
    }
   ],
   "source": [
    "# logsoftmax\n",
    "F.log_softmax(out, dim=0)"
   ]
  },
  {
   "cell_type": "markdown",
   "metadata": {},
   "source": [
    "## MNIST \n",
    "*Hello world in NN*"
   ]
  },
  {
   "cell_type": "code",
   "execution_count": 23,
   "metadata": {},
   "outputs": [],
   "source": [
    "import idx2numpy\n",
    "import zipfile\n",
    "import os\n",
    "\n",
    "MNIST_path = \"dataset/MNIST\"\n",
    "IMG_NAMEFILE = \"t10k-images.idx3-ubyte\"\n",
    "LABEL_NAMEFILE = \"t10k-labels.idx1-ubyte\"\n",
    "MNIST = os.path.join(MNIST_path, \"t10k-images.idx3-ubyte.zip\")\n",
    "with zipfile.ZipFile(MNIST, \"r\") as f:\n",
    "    with f.open(IMG_NAMEFILE) as file:\n",
    "        X = idx2numpy.convert_from_file(file)\n",
    "        y = idx2numpy.convert_from_file(os.path.join(MNIST_path, LABEL_NAMEFILE))"
   ]
  },
  {
   "cell_type": "markdown",
   "metadata": {},
   "source": [
    "### Preview"
   ]
  },
  {
   "cell_type": "code",
   "execution_count": 24,
   "metadata": {},
   "outputs": [
    {
     "data": {
      "image/png": "[encoded data removed]",
      "text/plain": [
       "<Figure size 640x480 with 1 Axes>"
      ]
     },
     "metadata": {},
     "output_type": "display_data"
    }
   ],
   "source": [
    "import matplotlib.pyplot as plt\n",
    "\n",
    "idx = np.random.choice([i for i in range(len(X))])\n",
    "plt.title(f\"Label : {y[idx]}\")\n",
    "plt.imshow(X[idx]);"
   ]
  },
  {
   "cell_type": "markdown",
   "metadata": {},
   "source": [
    "### Create Dataset"
   ]
  },
  {
   "cell_type": "code",
   "execution_count": 25,
   "metadata": {},
   "outputs": [],
   "source": [
    "from torch.utils.data import TensorDataset, DataLoader\n",
    "\n",
    "X = np.copy(X)\n",
    "y = np.copy(y)\n",
    "X_tensor = torch.FloatTensor(X)\n",
    "y_tensor = torch.LongTensor(y)\n",
    "\n",
    "dataset = TensorDataset(X_tensor, y_tensor)\n",
    "\n",
    "train_dataset, val_dataset = torch.utils.data.random_split(\n",
    "    dataset, lengths=[8000, 2000]\n",
    ")  # lengths parameter is train data length and val data length"
   ]
  },
  {
   "cell_type": "markdown",
   "metadata": {},
   "source": [
    "#### Preview Dataset"
   ]
  },
  {
   "cell_type": "code",
   "execution_count": 26,
   "metadata": {},
   "outputs": [
    {
     "name": "stdout",
     "output_type": "stream",
     "text": [
      "(tensor([[  0.,   0.,   0.,   0.,   0.,   0.,   0.,   0.,   0.,   0.,   0.,   0.,\n",
      "           0.,   0.,   0.,   0.,   0.,   0.,   0.,   0.,   0.,   0.,   0.,   0.,\n",
      "           0.,   0.,   0.,   0.],\n",
      "        [  0.,   0.,   0.,   0.,   0.,   0.,   0.,   0.,   0.,   0.,   0.,   0.,\n",
      "           0.,   0.,   0.,   0.,   0.,   0.,   0.,   0.,   0.,   0.,   0.,   0.,\n",
      "           0.,   0.,   0.,   0.],\n",
      "        [  0.,   0.,   0.,   0.,   0.,   0.,   0.,   0.,   0.,   0.,   0.,   0.,\n",
      "           0.,   0.,   0.,   0.,   0.,   0.,   0.,   0.,   0.,   0.,   0.,   0.,\n",
      "           0.,   0.,   0.,   0.],\n",
      "        [  0.,   0.,   0.,   0.,   0.,   0.,   0.,   0.,   0.,   0.,   0.,   0.,\n",
      "           0.,   0.,   0.,   0.,   0.,   0.,   0.,   0.,   0.,   0.,   0.,   0.,\n",
      "           0.,   0.,   0.,   0.],\n",
      "        [  0.,   0.,   0.,   0.,   0.,   0.,   0.,   0.,   0.,   0.,   0.,   0.,\n",
      "           0.,   0.,   0.,   0.,   0.,   0.,   0.,   0.,   0.,   0.,   0.,   0.,\n",
      "           0.,   0.,   0.,   0.],\n",
      "        [  0.,   0.,   0.,   0.,   0.,   0.,   0.,   0.,   0.,  11., 202., 253.,\n",
      "         137.,  24.,  24.,  24.,  24.,  24.,  66., 138., 139., 138., 138.,  25.,\n",
      "           0.,   0.,   0.,   0.],\n",
      "        [  0.,   0.,   0.,   0.,   0.,   0.,   0.,   0.,   0., 116., 253., 252.,\n",
      "         252., 252., 252., 253., 252., 252., 252., 252., 253., 252., 252.,  45.,\n",
      "           0.,   0.,   0.,   0.],\n",
      "        [  0.,   0.,   0.,   0.,   0.,   0.,   0.,   0.,   0., 146., 253., 252.,\n",
      "         252., 252., 252., 253., 252., 252., 252., 252., 253., 252., 170.,  13.,\n",
      "           0.,   0.,   0.,   0.],\n",
      "        [  0.,   0.,   0.,   0.,   0.,   0.,   0.,   0.,   0., 230., 253., 252.,\n",
      "         227., 160., 160., 161., 160., 160., 160.,  56.,  46.,  45.,  13.,   0.,\n",
      "           0.,   0.,   0.,   0.],\n",
      "        [  0.,   0.,   0.,   0.,   0.,   0.,   0.,   0.,   0., 230., 253., 252.,\n",
      "          79.,   0.,   0.,   0.,   0.,   0.,   0.,   0.,   0.,   0.,   0.,   0.,\n",
      "           0.,   0.,   0.,   0.],\n",
      "        [  0.,   0.,   0.,   0.,   0.,   0.,   0.,   0.,  51., 243., 255., 207.,\n",
      "           0.,   0.,   0.,   0.,   0.,   0.,   0.,   0.,   0.,   0.,   0.,   0.,\n",
      "           0.,   0.,   0.,   0.],\n",
      "        [  0.,   0.,   0.,   0.,   0.,   0.,   0.,   0.,  93., 252., 253., 206.,\n",
      "           0.,   0.,   0.,   0.,   0.,   0.,   0.,   0.,   0.,   0.,   0.,   0.,\n",
      "           0.,   0.,   0.,   0.],\n",
      "        [  0.,   0.,   0.,   0.,   0.,   0.,   0.,   0., 124., 252., 253., 219.,\n",
      "          70.,  70., 122.,  70.,  57.,   0.,   0.,   0.,   0.,   0.,   0.,   0.,\n",
      "           0.,   0.,   0.,   0.],\n",
      "        [  0.,   0.,   0.,   0.,   0.,   0.,   0.,  57., 244., 252., 253., 252.,\n",
      "         252., 252., 252., 253., 244., 124.,  17.,   0.,   0.,   0.,   0.,   0.,\n",
      "           0.,   0.,   0.,   0.],\n",
      "        [  0.,   0.,   0.,   0.,   0.,   0.,   0.,  70., 252., 252., 253., 252.,\n",
      "         252., 252., 252., 253., 252., 252., 192.,  11.,   0.,   0.,   0.,   0.,\n",
      "           0.,   0.,   0.,   0.],\n",
      "        [  0.,   0.,   0.,   0.,   0.,   0.,   0.,   0., 136., 251., 242., 157.,\n",
      "          32.,  95., 116., 233., 253., 253., 253., 201.,   0.,   0.,   0.,   0.,\n",
      "           0.,   0.,   0.,   0.],\n",
      "        [  0.,   0.,   0.,   0.,   0.,   0.,   0.,   0.,   0.,  84.,  42.,   0.,\n",
      "           0.,   0.,   0.,   9., 173., 252., 252., 252.,  22.,   0.,   0.,   0.,\n",
      "           0.,   0.,   0.,   0.],\n",
      "        [  0.,   0.,   0.,   0.,   0.,   0.,   0.,   0.,   0.,   0.,   0.,   0.,\n",
      "           0.,   0.,   0.,   0.,  34., 234., 252., 252., 146.,   0.,   0.,   0.,\n",
      "           0.,   0.,   0.,   0.],\n",
      "        [  0.,   0.,   0.,   0.,   0.,   0.,   0.,   0.,   0.,   0.,   0.,   0.,\n",
      "           0.,   0.,   0.,   0.,   0., 184., 252., 252., 230.,   0.,   0.,   0.,\n",
      "           0.,   0.,   0.,   0.],\n",
      "        [  0.,   0.,   0.,   0.,   0.,   0.,   0.,   0.,   0.,   0.,   0.,   0.,\n",
      "           0.,   0.,   0.,   0.,   0., 184., 252., 252., 241.,  42.,   0.,   0.,\n",
      "           0.,   0.,   0.,   0.],\n",
      "        [  0.,   0.,   0.,   0.,   0.,   0.,   5., 108., 138., 191.,  11.,   0.,\n",
      "           0.,   0.,   0.,   0.,  15., 191., 253., 253., 252.,  84.,   0.,   0.,\n",
      "           0.,   0.,   0.,   0.],\n",
      "        [  0.,   0.,   0.,   0.,   0.,   0.,  99., 252., 252., 252., 140.,  17.,\n",
      "           0.,   0.,  22., 110., 219., 252., 252., 252., 209.,   0.,   0.,   0.,\n",
      "           0.,   0.,   0.,   0.],\n",
      "        [  0.,   0.,   0.,   0.,   0.,   0.,  34., 234., 252., 252., 253., 209.,\n",
      "         184., 184., 215., 253., 252., 252., 252., 221.,  32.,   0.,   0.,   0.,\n",
      "           0.,   0.,   0.,   0.],\n",
      "        [  0.,   0.,   0.,   0.,   0.,   0.,   0., 142., 252., 252., 253., 252.,\n",
      "         252., 252., 252., 253., 252., 227., 119.,  25.,   0.,   0.,   0.,   0.,\n",
      "           0.,   0.,   0.,   0.],\n",
      "        [  0.,   0.,   0.,   0.,   0.,   0.,   0.,   7.,  22., 128., 253., 252.,\n",
      "         252., 252., 200., 137., 117.,  16.,   0.,   0.,   0.,   0.,   0.,   0.,\n",
      "           0.,   0.,   0.,   0.],\n",
      "        [  0.,   0.,   0.,   0.,   0.,   0.,   0.,   0.,   0.,   0.,   0.,   0.,\n",
      "           0.,   0.,   0.,   0.,   0.,   0.,   0.,   0.,   0.,   0.,   0.,   0.,\n",
      "           0.,   0.,   0.,   0.],\n",
      "        [  0.,   0.,   0.,   0.,   0.,   0.,   0.,   0.,   0.,   0.,   0.,   0.,\n",
      "           0.,   0.,   0.,   0.,   0.,   0.,   0.,   0.,   0.,   0.,   0.,   0.,\n",
      "           0.,   0.,   0.,   0.],\n",
      "        [  0.,   0.,   0.,   0.,   0.,   0.,   0.,   0.,   0.,   0.,   0.,   0.,\n",
      "           0.,   0.,   0.,   0.,   0.,   0.,   0.,   0.,   0.,   0.,   0.,   0.,\n",
      "           0.,   0.,   0.,   0.]]), tensor(5))\n"
     ]
    }
   ],
   "source": [
    "print(train_dataset[0])"
   ]
  },
  {
   "cell_type": "markdown",
   "metadata": {},
   "source": [
    "### Create DataLoaders for Mini-batch gradient descent"
   ]
  },
  {
   "cell_type": "code",
   "execution_count": 27,
   "metadata": {},
   "outputs": [],
   "source": [
    "BATCH_SIZE = 64\n",
    "\n",
    "train_loader = DataLoader(train_dataset, batch_size=BATCH_SIZE, num_workers=2)\n",
    "val_loader = DataLoader(val_dataset, batch_size=BATCH_SIZE, num_workers=2)\n",
    "\n",
    "dataloaders = {\"train\": train_loader, \"val\": val_loader}"
   ]
  },
  {
   "cell_type": "markdown",
   "metadata": {},
   "source": [
    "## Simple NN"
   ]
  },
  {
   "cell_type": "code",
   "execution_count": 28,
   "metadata": {},
   "outputs": [],
   "source": [
    "class NN(torch.nn.Module):\n",
    "    def __init__(self, input_size, hidden_size, num_classes):\n",
    "        super(NN, self).__init__()\n",
    "        self.l1 = torch.nn.Linear(input_size, hidden_size)\n",
    "        self.relu = torch.nn.ReLU()\n",
    "        self.l2 = torch.nn.Linear(hidden_size, num_classes)\n",
    "\n",
    "    def forward(self, x):\n",
    "        x = self.l1(x)\n",
    "        x = self.relu(x)\n",
    "        x = self.l2(x)\n",
    "        return x\n",
    "\n",
    "\n",
    "INPUT_SIZE = 28 * 28  # size image\n",
    "HIDDEN_SIZE = 500\n",
    "NUM_CLASSES = 10\n",
    "LEARNING_RATE = 0.001"
   ]
  },
  {
   "cell_type": "markdown",
   "metadata": {},
   "source": [
    "### Use Cuda if cuda is available"
   ]
  },
  {
   "cell_type": "code",
   "execution_count": 29,
   "metadata": {},
   "outputs": [
    {
     "data": {
      "text/plain": [
       "NN(\n",
       "  (l1): Linear(in_features=784, out_features=500, bias=True)\n",
       "  (relu): ReLU()\n",
       "  (l2): Linear(in_features=500, out_features=10, bias=True)\n",
       ")"
      ]
     },
     "execution_count": 29,
     "metadata": {},
     "output_type": "execute_result"
    }
   ],
   "source": [
    "device = torch.device(\"cuda\" if torch.cuda.is_available() else \"cpu\")\n",
    "\n",
    "model = NN(input_size=INPUT_SIZE, hidden_size=HIDDEN_SIZE, num_classes=NUM_CLASSES).to(\n",
    "    device\n",
    ")\n",
    "criterion = torch.nn.CrossEntropyLoss()\n",
    "optimizer = torch.optim.AdamW(model.parameters())\n",
    "\n",
    "model"
   ]
  },
  {
   "cell_type": "markdown",
   "metadata": {},
   "source": [
    "### Training"
   ]
  },
  {
   "cell_type": "code",
   "execution_count": 30,
   "metadata": {},
   "outputs": [
    {
     "name": "stdout",
     "output_type": "stream",
     "text": [
      "Epoch :   10/  10 | train_loss : 0.1135| val_loss : 0.4994 | train_acc : 0.9761 | val_acc : 0.9365 "
     ]
    }
   ],
   "source": [
    "EPOCHS = 10\n",
    "train_acc, train_loss = [], []\n",
    "val_acc, val_loss = [], []\n",
    "\n",
    "for epoch in range(EPOCHS):\n",
    "    for phase in dataloaders:\n",
    "        if phase == \"train\":\n",
    "            model.train()\n",
    "        else:\n",
    "            model.eval()\n",
    "\n",
    "        cost = 0\n",
    "        acc = 0\n",
    "\n",
    "        for inputs, targets in dataloaders[phase]:\n",
    "            optimizer.zero_grad()\n",
    "\n",
    "            inputs, targets = inputs.reshape(-1, 28 * 28).to(device), targets.to(device)\n",
    "            outputs = model.forward(inputs)\n",
    "            loss = criterion(outputs, targets)\n",
    "            pred = outputs.argmax(1)\n",
    "\n",
    "            if phase == \"train\":\n",
    "                loss.backward()\n",
    "                optimizer.step()\n",
    "\n",
    "            cost += loss.item() * inputs.shape[0]\n",
    "            acc += torch.sum(pred == targets.data)\n",
    "\n",
    "        if phase == \"train\":\n",
    "            train_acc.append(acc / len(train_dataset))\n",
    "            train_loss.append(cost / len(train_dataset))\n",
    "        else:\n",
    "            val_acc.append(acc / len(val_dataset))\n",
    "            val_loss.append(cost / len(val_dataset))\n",
    "\n",
    "    print(\n",
    "        f\"\\rEpoch : {epoch+1:4}/{EPOCHS:4} | train_loss : {train_loss[-1]:.4f}| val_loss : {val_loss[-1]:.4f} | train_acc : {train_acc[-1]:.4f} | val_acc : {val_acc[-1]:.4f}\",\n",
    "        end=\" \",\n",
    "    )"
   ]
  },
  {
   "cell_type": "markdown",
   "metadata": {},
   "source": [
    "## Test Model"
   ]
  },
  {
   "cell_type": "code",
   "execution_count": 31,
   "metadata": {},
   "outputs": [
    {
     "data": {
      "image/png": "[encoded data removed]",
      "text/plain": [
       "<Figure size 640x480 with 1 Axes>"
      ]
     },
     "metadata": {},
     "output_type": "display_data"
    }
   ],
   "source": [
    "def pred(X: torch.Tensor, actual=None):\n",
    "    y = model(X.reshape(-1, 28 * 28).to(device)).argmax(1)\n",
    "    plt.title(f\"pred : {y.item()} | actual : {actual}\")\n",
    "    plt.imshow(X)\n",
    "\n",
    "\n",
    "idx = np.random.choice(len(val_dataset))\n",
    "X_test, y_test = val_dataset[idx][0], val_dataset[idx][1]\n",
    "pred(X_test, y_test)"
   ]
  }
 ],
 "metadata": {
  "kernelspec": {
   "display_name": "base",
   "language": "python",
   "name": "python3"
  },
  "language_info": {
   "codemirror_mode": {
    "name": "ipython",
    "version": 3
   },
   "file_extension": ".py",
   "mimetype": "text/x-python",
   "name": "python",
   "nbconvert_exporter": "python",
   "pygments_lexer": "ipython3",
   "version": "3.12.2"
  }
 },
 "nbformat": 4,
 "nbformat_minor": 2
}
