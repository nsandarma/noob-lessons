{
 "cells": [
  {
   "cell_type": "markdown",
   "metadata": {},
   "source": [
    "https://docs.python.org/3/library/collections.html\n",
    "\n",
    "- Python 3.12"
   ]
  },
  {
   "cell_type": "code",
   "execution_count": 1,
   "metadata": {},
   "outputs": [],
   "source": [
    "from collections import namedtuple, deque, OrderedDict, Counter, ChainMap, defaultdict"
   ]
  },
  {
   "cell_type": "markdown",
   "metadata": {},
   "source": [
    "## Counter\n",
    "Untuk menghitung elemen yang ada didalam iterable"
   ]
  },
  {
   "cell_type": "code",
   "execution_count": 4,
   "metadata": {},
   "outputs": [
    {
     "data": {
      "text/plain": [
       "Counter({'apple': 3, 'watermelon': 2, 'orange': 1})"
      ]
     },
     "execution_count": 4,
     "metadata": {},
     "output_type": "execute_result"
    }
   ],
   "source": [
    "data = [\"apple\", \"orange\", \"watermelon\", \"apple\", \"watermelon\", \"apple\"]\n",
    "Counter(data)"
   ]
  },
  {
   "cell_type": "code",
   "execution_count": 7,
   "metadata": {},
   "outputs": [
    {
     "data": {
      "text/plain": [
       "Counter({'A': 5, 'B': 5, 'C': 3})"
      ]
     },
     "execution_count": 7,
     "metadata": {},
     "output_type": "execute_result"
    }
   ],
   "source": [
    "# String nya juga termasuk iterable\n",
    "data = \"AAABBBCCCABAB\"\n",
    "Counter(data)"
   ]
  },
  {
   "cell_type": "code",
   "execution_count": 25,
   "metadata": {},
   "outputs": [
    {
     "data": {
      "text/plain": [
       "[('L', 54), ('A', 50), ('T', 50), ('U', 44), ('I', 44)]"
      ]
     },
     "execution_count": 25,
     "metadata": {},
     "output_type": "execute_result"
    }
   ],
   "source": [
    "# Misal, data nya ada banyak, kita bisa mengambil 5 teratas\n",
    "import random\n",
    "from string import ascii_uppercase\n",
    "\n",
    "data = [random.choice(ascii_uppercase) for _ in range(1000)]\n",
    "\n",
    "Counter(data).most_common(5)"
   ]
  },
  {
   "cell_type": "markdown",
   "metadata": {},
   "source": [
    "## Deque\n",
    "Untuk membuat double-ended queue, yang memungkinkan penambahan dan penghapusan elemen dari kedua ujungnya dengan cepat."
   ]
  },
  {
   "cell_type": "code",
   "execution_count": 35,
   "metadata": {},
   "outputs": [
    {
     "data": {
      "text/plain": [
       "deque(['Alice', 'Bob', 'Charlie'])"
      ]
     },
     "execution_count": 35,
     "metadata": {},
     "output_type": "execute_result"
    }
   ],
   "source": [
    "# deque mendukung operasi penambahan dan penghapusan elemen dari kedua ujung dengan waktu yang tetap (O(1)).\n",
    "queue = deque([\"Alice\", \"Bob\", \"Charlie\"])\n",
    "queue"
   ]
  },
  {
   "cell_type": "code",
   "execution_count": 36,
   "metadata": {},
   "outputs": [
    {
     "data": {
      "text/plain": [
       "deque(['Alice', 'Bob', 'Charlie', 'David'])"
      ]
     },
     "execution_count": 36,
     "metadata": {},
     "output_type": "execute_result"
    }
   ],
   "source": [
    "# Menambah di belakang antrian\n",
    "queue.append(\"David\")\n",
    "queue"
   ]
  },
  {
   "cell_type": "code",
   "execution_count": 37,
   "metadata": {},
   "outputs": [
    {
     "data": {
      "text/plain": [
       "deque(['Joko', 'Alice', 'Bob', 'Charlie', 'David'])"
      ]
     },
     "execution_count": 37,
     "metadata": {},
     "output_type": "execute_result"
    }
   ],
   "source": [
    "# Menambah di depan antrian\n",
    "queue.appendleft(\"Joko\")\n",
    "queue"
   ]
  },
  {
   "cell_type": "code",
   "execution_count": 38,
   "metadata": {},
   "outputs": [
    {
     "data": {
      "text/plain": [
       "deque(['Joko', 'Alice', 'Bob', 'Charlie', 'David', 'Ohio', 'Aryan', 'Skibidi'])"
      ]
     },
     "execution_count": 38,
     "metadata": {},
     "output_type": "execute_result"
    }
   ],
   "source": [
    "# Menambah kumpulan data di belakang antrian\n",
    "queue.extend([\"Ohio\", \"Aryan\", \"Skibidi\"])\n",
    "queue"
   ]
  },
  {
   "cell_type": "code",
   "execution_count": 39,
   "metadata": {},
   "outputs": [
    {
     "data": {
      "text/plain": [
       "deque(['Joko', 'Alice', 'Bob', 'Charlie', 'David', 'Ohio', 'Aryan'])"
      ]
     },
     "execution_count": 39,
     "metadata": {},
     "output_type": "execute_result"
    }
   ],
   "source": [
    "# Menghapus dari belakang\n",
    "queue.pop()\n",
    "queue"
   ]
  },
  {
   "cell_type": "code",
   "execution_count": 40,
   "metadata": {},
   "outputs": [
    {
     "data": {
      "text/plain": [
       "deque(['Alice', 'Bob', 'Charlie', 'David', 'Ohio', 'Aryan'])"
      ]
     },
     "execution_count": 40,
     "metadata": {},
     "output_type": "execute_result"
    }
   ],
   "source": [
    "# Menghapus dari depan\n",
    "queue.popleft()\n",
    "queue"
   ]
  },
  {
   "cell_type": "markdown",
   "metadata": {},
   "source": [
    "## Namedtuple\n",
    "**namedtuple** memungkinkan membuat tuple dengan nama atribut sehingga lebih mudah dibaca dan digunakan."
   ]
  },
  {
   "cell_type": "code",
   "execution_count": 42,
   "metadata": {},
   "outputs": [
    {
     "name": "stdout",
     "output_type": "stream",
     "text": [
      "ohioskrr ********\n"
     ]
    }
   ],
   "source": [
    "data = namedtuple(\"user\", [\"username\", \"password\"])\n",
    "d1 = data(username=\"ohioskrr\", password=\"********\")\n",
    "print(d1.username, d1.password)"
   ]
  },
  {
   "cell_type": "markdown",
   "metadata": {},
   "source": [
    "## OrderedDict\n",
    "**OrderedDict** mempertahankan urutan penambahan elemen"
   ]
  },
  {
   "cell_type": "code",
   "execution_count": 55,
   "metadata": {},
   "outputs": [
    {
     "data": {
      "text/plain": [
       "OrderedDict([('2024-07-13 14:12:19.465564', [0, 0, 0, 0, 0]),\n",
       "             ('2024-07-13 14:12:20.465762', [0, 1, 2, 3, 4]),\n",
       "             ('2024-07-13 14:12:21.465963', [0, 2, 4, 6, 8]),\n",
       "             ('2024-07-13 14:12:22.466102', [0, 3, 6, 9, 12]),\n",
       "             ('2024-07-13 14:12:23.466254', [0, 4, 8, 12, 16])])"
      ]
     },
     "execution_count": 55,
     "metadata": {},
     "output_type": "execute_result"
    }
   ],
   "source": [
    "# Sebenarnya di python versi terbaru, `dict` sudah dapat mempertahankan posisi urutan nya\n",
    "import time\n",
    "from datetime import datetime\n",
    "\n",
    "data = OrderedDict()\n",
    "for i in range(5):\n",
    "    time.sleep(1)\n",
    "    dt = str(datetime.now())\n",
    "    data[dt] = [c * i for c in range(5)]\n",
    "\n",
    "data"
   ]
  },
  {
   "cell_type": "markdown",
   "metadata": {},
   "source": [
    "## defaultdict\n",
    "**defaultdict** mengembalikan nilai default ketika kunci yang tidak ada diakses, mencegah KeyError."
   ]
  },
  {
   "cell_type": "code",
   "execution_count": 7,
   "metadata": {},
   "outputs": [
    {
     "data": {
      "text/plain": [
       "0"
      ]
     },
     "execution_count": 7,
     "metadata": {},
     "output_type": "execute_result"
    }
   ],
   "source": [
    "data = defaultdict(int)\n",
    "data[\"a\"] = 0\n",
    "data[\"b\"] = 1\n",
    "data[\"c\"] = 2\n",
    "\n",
    "data[\"d\"]"
   ]
  },
  {
   "cell_type": "markdown",
   "metadata": {},
   "source": [
    "## ChainMap\n",
    "**ChainMap** digunakan untuk menggabungkan beberapa dictionary menjadi satu dan memungkinkan pencarian kunci secara langsung tanpa perlu menggabungkannya terlebih dahulu. Biasanya digunakan pada data konfigurasi"
   ]
  },
  {
   "cell_type": "code",
   "execution_count": 56,
   "metadata": {},
   "outputs": [
    {
     "name": "stdout",
     "output_type": "stream",
     "text": [
      "Dark\n",
      "English\n"
     ]
    }
   ],
   "source": [
    "# Contoh kasus: Menggabungkan konfigurasi dari beberapa sumber\n",
    "default_config = {\"theme\": \"Default\", \"language\": \"English\"}\n",
    "user_config = {\"theme\": \"Dark\"}\n",
    "\n",
    "config = ChainMap(user_config, default_config)\n",
    "print(config[\"theme\"])  # Output: Dark\n",
    "print(config[\"language\"])  # Output: English"
   ]
  }
 ],
 "metadata": {
  "kernelspec": {
   "display_name": "base",
   "language": "python",
   "name": "python3"
  },
  "language_info": {
   "codemirror_mode": {
    "name": "ipython",
    "version": 3
   },
   "file_extension": ".py",
   "mimetype": "text/x-python",
   "name": "python",
   "nbconvert_exporter": "python",
   "pygments_lexer": "ipython3",
   "version": "3.12.2"
  }
 },
 "nbformat": 4,
 "nbformat_minor": 2
}
