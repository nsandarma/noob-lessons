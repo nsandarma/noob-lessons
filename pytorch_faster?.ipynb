{
 "cells": [
  {
   "cell_type": "markdown",
   "metadata": {},
   "source": [
    "- python3.12\n",
    "- torch '2.3.0+cu121'\n",
    "- numpy '1.26'"
   ]
  },
  {
   "cell_type": "markdown",
   "metadata": {},
   "source": [
    "*Tensor computation (like NumPy) with strong GPU acceleration*"
   ]
  },
  {
   "cell_type": "code",
   "execution_count": 1,
   "metadata": {},
   "outputs": [],
   "source": [
    "import torch\n",
    "import numpy as np\n",
    "import time"
   ]
  },
  {
   "cell_type": "markdown",
   "metadata": {},
   "source": [
    "# Multiply Matrix"
   ]
  },
  {
   "cell_type": "code",
   "execution_count": 2,
   "metadata": {},
   "outputs": [],
   "source": [
    "N = 8042"
   ]
  },
  {
   "cell_type": "markdown",
   "metadata": {},
   "source": [
    "## Use Numpy"
   ]
  },
  {
   "cell_type": "code",
   "execution_count": 3,
   "metadata": {},
   "outputs": [
    {
     "name": "stdout",
     "output_type": "stream",
     "text": [
      "time : 14.56\n"
     ]
    }
   ],
   "source": [
    "start = time.monotonic()\n",
    "n1 = np.random.randn(N, N).astype(np.float32)\n",
    "n2 = np.random.randn(N, N).astype(np.float32)\n",
    "\n",
    "c = n1 @ n2\n",
    "end = time.monotonic()\n",
    "t = end - start\n",
    "print(f\"time : {t:.2f}\")"
   ]
  },
  {
   "cell_type": "markdown",
   "metadata": {},
   "source": [
    "## Use PyTorch"
   ]
  },
  {
   "cell_type": "code",
   "execution_count": 4,
   "metadata": {},
   "outputs": [
    {
     "name": "stdout",
     "output_type": "stream",
     "text": [
      "time: 2.07\n"
     ]
    }
   ],
   "source": [
    "device = torch.device(\"cuda\" if torch.cuda.is_available() else \"cpu\")  # MX130\n",
    "\n",
    "start = time.monotonic()\n",
    "t1 = torch.randn((N, N)).to(device)\n",
    "t2 = torch.randn((N, N)).to(device)\n",
    "\n",
    "c = t1 @ t2\n",
    "end = time.monotonic()\n",
    "t = end - start\n",
    "print(f\"time: {t:.2f}\")"
   ]
  },
  {
   "cell_type": "markdown",
   "metadata": {},
   "source": [
    "### Without CUDA"
   ]
  },
  {
   "cell_type": "code",
   "execution_count": 5,
   "metadata": {},
   "outputs": [
    {
     "name": "stdout",
     "output_type": "stream",
     "text": [
      "time: 15.70\n"
     ]
    }
   ],
   "source": [
    "start = time.monotonic()\n",
    "t1 = torch.randn((N, N))\n",
    "t2 = torch.randn((N, N))\n",
    "\n",
    "c = t1 @ t2\n",
    "end = time.monotonic()\n",
    "t = end - start\n",
    "print(f\"time: {t:.2f}\")"
   ]
  }
 ],
 "metadata": {
  "kernelspec": {
   "display_name": "base",
   "language": "python",
   "name": "python3"
  },
  "language_info": {
   "codemirror_mode": {
    "name": "ipython",
    "version": 3
   },
   "file_extension": ".py",
   "mimetype": "text/x-python",
   "name": "python",
   "nbconvert_exporter": "python",
   "pygments_lexer": "ipython3",
   "version": "3.12.2"
  }
 },
 "nbformat": 4,
 "nbformat_minor": 2
}
